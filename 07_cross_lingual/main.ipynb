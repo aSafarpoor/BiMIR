{
 "cells": [
  {
   "cell_type": "markdown",
   "metadata": {
    "id": "eilZg458S1JN"
   },
   "source": [
    "# In the name of Allah"
   ]
  },
  {
   "cell_type": "markdown",
   "metadata": {
    "id": "hRjaoCuQTOFk"
   },
   "source": [
    "#### Install and include requirements"
   ]
  },
  {
   "cell_type": "code",
   "execution_count": 1,
   "metadata": {
    "colab": {
     "base_uri": "https://localhost:8080/"
    },
    "executionInfo": {
     "elapsed": 53453,
     "status": "ok",
     "timestamp": 1645179393997,
     "user": {
      "displayName": "Alireza Sahebi",
      "photoUrl": "https://lh3.googleusercontent.com/a-/AOh14GicspjLu5qIdriM63UAuvCNy-3gjMj8YsBBnjJ1MQ=s64",
      "userId": "16001976437513665461"
     },
     "user_tz": -210
    },
    "id": "eRphMqyaS0l2",
    "outputId": "4cbfb2b1-d963-4c55-f134-b50fccfcc059"
   },
   "outputs": [],
   "source": [
    "!pip -q install hazm\n",
    "!pip -q install fasttext"
   ]
  },
  {
   "cell_type": "code",
   "execution_count": 2,
   "metadata": {
    "executionInfo": {
     "elapsed": 3,
     "status": "ok",
     "timestamp": 1645179626748,
     "user": {
      "displayName": "Alireza Sahebi",
      "photoUrl": "https://lh3.googleusercontent.com/a-/AOh14GicspjLu5qIdriM63UAuvCNy-3gjMj8YsBBnjJ1MQ=s64",
      "userId": "16001976437513665461"
     },
     "user_tz": -210
    },
    "id": "h7iQa2MZSy-b"
   },
   "outputs": [],
   "source": [
    "import pandas as pd\n",
    "import re\n",
    "import fasttext\n",
    "import pandas as pd\n",
    "import numpy as np\n",
    "import json\n",
    "from hazm import Normalizer"
   ]
  },
  {
   "cell_type": "markdown",
   "metadata": {
    "id": "3J0nurUKUYPB"
   },
   "source": [
    "### Define fasttext model and idf addrs"
   ]
  },
  {
   "cell_type": "code",
   "execution_count": 5,
   "metadata": {
    "executionInfo": {
     "elapsed": 7,
     "status": "ok",
     "timestamp": 1645179320225,
     "user": {
      "displayName": "Alireza Sahebi",
      "photoUrl": "https://lh3.googleusercontent.com/a-/AOh14GicspjLu5qIdriM63UAuvCNy-3gjMj8YsBBnjJ1MQ=s64",
      "userId": "16001976437513665461"
     },
     "user_tz": -210
    },
    "id": "0H4ANcCyUYi2"
   },
   "outputs": [],
   "source": [
    "BASE_DIR = '../milvus/Milvus-Deploy/Milvus-Deploy/server/src'\n",
    "\n",
    "en_bin = f'{BASE_DIR}/model/model_en.bin'\n",
    "fa_bin = f'{BASE_DIR}/model/model_fa.bin'\n",
    "\n",
    "en_vec = f'{BASE_DIR}/model/model_en.vec'\n",
    "fa_vec = f'{BASE_DIR}/model/model_fa.vec'\n",
    "\n",
    "en_idf_addr = f'{BASE_DIR}/idf/en_idf.csv'\n",
    "fa_idf_addr = f'{BASE_DIR}/idf/fa_idf.csv'"
   ]
  },
  {
   "cell_type": "markdown",
   "metadata": {
    "id": "vENv0nxoTS7C"
   },
   "source": [
    "### Load idf files"
   ]
  },
  {
   "cell_type": "code",
   "execution_count": 6,
   "metadata": {
    "executionInfo": {
     "elapsed": 422,
     "status": "ok",
     "timestamp": 1645185241454,
     "user": {
      "displayName": "Alireza Sahebi",
      "photoUrl": "https://lh3.googleusercontent.com/a-/AOh14GicspjLu5qIdriM63UAuvCNy-3gjMj8YsBBnjJ1MQ=s64",
      "userId": "16001976437513665461"
     },
     "user_tz": -210
    },
    "id": "BNhpas-1THTs"
   },
   "outputs": [],
   "source": [
    "en_idf = pd.read_csv(en_idf_addr)\n",
    "en_idf.index = en_idf['word']\n",
    "del en_idf['word']\n",
    "\n",
    "fa_idf = pd.read_csv(fa_idf_addr)\n",
    "fa_idf.index = fa_idf['word']\n",
    "del fa_idf['word']"
   ]
  },
  {
   "cell_type": "markdown",
   "metadata": {
    "id": "BGt6sx_YURCS"
   },
   "source": [
    "### Load fasttext models"
   ]
  },
  {
   "cell_type": "code",
   "execution_count": 7,
   "metadata": {
    "colab": {
     "base_uri": "https://localhost:8080/"
    },
    "executionInfo": {
     "elapsed": 49513,
     "status": "ok",
     "timestamp": 1645179558512,
     "user": {
      "displayName": "Alireza Sahebi",
      "photoUrl": "https://lh3.googleusercontent.com/a-/AOh14GicspjLu5qIdriM63UAuvCNy-3gjMj8YsBBnjJ1MQ=s64",
      "userId": "16001976437513665461"
     },
     "user_tz": -210
    },
    "id": "HaYZm6DDUTwD",
    "outputId": "93f02c0d-825c-483d-8441-1bd844886b78"
   },
   "outputs": [
    {
     "name": "stderr",
     "output_type": "stream",
     "text": [
      "Warning : `load_model` does not return WordVectorModel or SupervisedModel any more, but a `FastText` object which is very similar.\n",
      "Warning : `load_model` does not return WordVectorModel or SupervisedModel any more, but a `FastText` object which is very similar.\n"
     ]
    }
   ],
   "source": [
    "model_en = fasttext.load_model(en_bin)\n",
    "model_fa = fasttext.load_model(fa_bin)"
   ]
  },
  {
   "cell_type": "markdown",
   "metadata": {
    "id": "tvosnt7HT6h9"
   },
   "source": [
    "### Normalization functions"
   ]
  },
  {
   "cell_type": "code",
   "execution_count": 8,
   "metadata": {
    "executionInfo": {
     "elapsed": 409,
     "status": "ok",
     "timestamp": 1645180503553,
     "user": {
      "displayName": "Alireza Sahebi",
      "photoUrl": "https://lh3.googleusercontent.com/a-/AOh14GicspjLu5qIdriM63UAuvCNy-3gjMj8YsBBnjJ1MQ=s64",
      "userId": "16001976437513665461"
     },
     "user_tz": -210
    },
    "id": "-wC5QCWoTJ4d"
   },
   "outputs": [],
   "source": [
    "def en_remove_punc(s):\n",
    "    punc = '\"#\\'*+,-/:;<=>@[\\]^_`{|}~\\'●,•()»«–‑-،؛−٫—'\n",
    "    table = str.maketrans(dict.fromkeys(punc, ' ')) \n",
    "    new_s = s.translate(table) \n",
    "    new_s = ' '.join(new_s.split())\n",
    "    return new_s\n",
    "\n",
    "\n",
    "def fa_remove_punc(s):\n",
    "    punc = '\"#\\'*+,-:;<=>@[\\]^_`{|}~\\'●,•()»«–‑-،؛−—'\n",
    "    table = str.maketrans(dict.fromkeys(punc, ' ')) \n",
    "    new_s = s.translate(table) \n",
    "    new_s = ' '.join(new_s.split())\n",
    "    return new_s\n",
    "\n",
    "def en_normalizer(text):\n",
    "    text = text.lower()\n",
    "    text = text.replace('\\xa0','')\n",
    "    #text = text.replace('-',' ')\n",
    "    text = re.sub(r\"\\[[\\d| ]+\\]\", \" \", text)\n",
    "    text = en_remove_punc(text)\n",
    "    #text = re.sub(r\"(.)\\.([^0-9]|\\n|$)\", r\"\\1 . \\2\", text)\n",
    "    text = re.sub(r\"(\\w{2,}| )\\.([^0-9]|\\n|$)\", r\"\\1 . \\2\", text)\n",
    "    text = re.sub(r\"!\", \" ! \", text)\n",
    "    text = re.sub(r\"\\?\", \" ? \", text)\n",
    "    text = re.sub(r\"؟\", \" ؟ \", text)\n",
    "    text = re.sub(r\" +\", \" \", text)\n",
    "    return text.strip()\n",
    "\n",
    "def fa_normalizer(text):\n",
    "    text = arToPersianChar(text)\n",
    "    text = arToPersianNumb(text)\n",
    "    text = text.replace('\\xa0','')\n",
    "    #text = text.replace('-',' ')\n",
    "    text = text.replace('ٔ', '')\n",
    "    text = fa_remove_punc(text)\n",
    "    # more_normalization_function()\n",
    "    normalizer = Normalizer(persian_style = False, punctuation_spacing = False, affix_spacing = False)\n",
    "    text = normalizer.normalize(text)\n",
    "    text = text.replace('\\u200c',' ')\n",
    "    text = text.replace('\\u200b',' ')\n",
    "    text = re.sub(r\"(\\w{2,}| )\\.([^0-9]|\\n|$)\", r\"\\1 . \\2\", text)\n",
    "    text = re.sub(r'([\\d+])\\.([\\d+])', r'\\1٫\\2', text)\n",
    "    text = re.sub(r'([\\d+])/([\\d+])', r'\\1٫\\2', text)\n",
    "    text = re.sub(r\"!\", \" ! \", text)\n",
    "    text = re.sub(r\"\\?\", \" ? \", text)\n",
    "    text = re.sub(r\" +\", \" \", text)\n",
    "    text = re.sub(r\" +\", \" \", text)\n",
    "    return text.strip()\n",
    "\n",
    "\n",
    "def arToPersianNumb(number):\n",
    "    dic = {\n",
    "        '١': '۱',\n",
    "        '٢': '۲',\n",
    "        '٣': '۳',\n",
    "        '٤': '۴',\n",
    "        '٥': '۵',\n",
    "        '٦': '۶',\n",
    "        '٧': '۷',\n",
    "        '٨': '۸',\n",
    "        '٩': '۹',\n",
    "        '٠': '۰',\n",
    "    }\n",
    "    return multiple_replace(dic, number)\n",
    "\n",
    "\n",
    "def arToPersianChar(userInput):\n",
    "    dic = {\n",
    "        'ك': 'ک',\n",
    "        'دِ': 'د',\n",
    "        'بِ': 'ب',\n",
    "        'زِ': 'ز',\n",
    "        'ذِ': 'ذ',\n",
    "        'شِ': 'ش',\n",
    "        'سِ': 'س',\n",
    "        'ى': 'ی',\n",
    "        'ي': 'ی'\n",
    "    }\n",
    "    return multiple_replace(dic, userInput)\n",
    "\n",
    "def multiple_replace(dic, text):\n",
    "    pattern = \"|\".join(map(re.escape, dic.keys()))\n",
    "    return re.sub(pattern, lambda m: dic[m.group()], str(text))"
   ]
  },
  {
   "cell_type": "markdown",
   "metadata": {
    "id": "lVljEOHCT9G0"
   },
   "source": [
    "###  Functions to get paragraph and output paragraph embedding vector"
   ]
  },
  {
   "cell_type": "code",
   "execution_count": 9,
   "metadata": {
    "executionInfo": {
     "elapsed": 461,
     "status": "ok",
     "timestamp": 1645187517302,
     "user": {
      "displayName": "Alireza Sahebi",
      "photoUrl": "https://lh3.googleusercontent.com/a-/AOh14GicspjLu5qIdriM63UAuvCNy-3gjMj8YsBBnjJ1MQ=s64",
      "userId": "16001976437513665461"
     },
     "user_tz": -210
    },
    "id": "-kIiIFUAtfAr"
   },
   "outputs": [],
   "source": [
    "non_vocab_idf_weight = 3"
   ]
  },
  {
   "cell_type": "code",
   "execution_count": 10,
   "metadata": {
    "executionInfo": {
     "elapsed": 3,
     "status": "ok",
     "timestamp": 1645186262993,
     "user": {
      "displayName": "Alireza Sahebi",
      "photoUrl": "https://lh3.googleusercontent.com/a-/AOh14GicspjLu5qIdriM63UAuvCNy-3gjMj8YsBBnjJ1MQ=s64",
      "userId": "16001976437513665461"
     },
     "user_tz": -210
    },
    "id": "Laz62eVLTLNj"
   },
   "outputs": [],
   "source": [
    "def encode_en(par, use_idf=False):\n",
    "    par_normd_spltd = en_normalizer(par).split(' ')\n",
    "    vecs = [] \n",
    "    for word in par_normd_spltd:\n",
    "        if use_idf:\n",
    "            vecs.append(en_idf.idf.get(word, non_vocab_idf_weight) * model_en.get_word_vector(word))\n",
    "        else:\n",
    "            vecs.append(model_en.get_word_vector(word))\n",
    "    return np.average(np.array(vecs), axis = 0)"
   ]
  },
  {
   "cell_type": "code",
   "execution_count": 11,
   "metadata": {
    "executionInfo": {
     "elapsed": 4,
     "status": "ok",
     "timestamp": 1645186263459,
     "user": {
      "displayName": "Alireza Sahebi",
      "photoUrl": "https://lh3.googleusercontent.com/a-/AOh14GicspjLu5qIdriM63UAuvCNy-3gjMj8YsBBnjJ1MQ=s64",
      "userId": "16001976437513665461"
     },
     "user_tz": -210
    },
    "id": "PyqUUONia9z6"
   },
   "outputs": [],
   "source": [
    "def encode_fa(par, use_idf=False):\n",
    "    par_normd_spltd = fa_normalizer(par).split(' ')\n",
    "    vecs = [] \n",
    "    for word in par_normd_spltd:\n",
    "        if use_idf:\n",
    "            vecs.append(fa_idf.idf.get(word, non_vocab_idf_weight) * model_fa.get_word_vector(word))\n",
    "        else:\n",
    "            vecs.append(model_fa.get_word_vector(word))\n",
    "    return np.average(np.array(vecs), axis = 0)"
   ]
  },
  {
   "cell_type": "markdown",
   "metadata": {},
   "source": [
    "# Load pair data and train a cross lingual projection"
   ]
  },
  {
   "cell_type": "code",
   "execution_count": 12,
   "metadata": {},
   "outputs": [],
   "source": [
    "with open('pairs_merged.json', 'r') as f:\n",
    "    pairs = json.load(f)"
   ]
  },
  {
   "cell_type": "code",
   "execution_count": 13,
   "metadata": {},
   "outputs": [],
   "source": [
    "en_vecs = []\n",
    "fa_vecs = []\n",
    "for en_word, fa_word in pairs:\n",
    "    en_vecs.append(encode_en(en_word, use_idf=False))\n",
    "    fa_vecs.append(encode_fa(fa_word, use_idf=False))"
   ]
  },
  {
   "cell_type": "code",
   "execution_count": 14,
   "metadata": {},
   "outputs": [],
   "source": [
    "en_mat = np.array(en_vecs)\n",
    "fa_mat = np.array(fa_vecs)"
   ]
  },
  {
   "cell_type": "markdown",
   "metadata": {},
   "source": [
    "## Let's use pytorch"
   ]
  },
  {
   "cell_type": "code",
   "execution_count": 15,
   "metadata": {},
   "outputs": [],
   "source": [
    "import torch\n",
    "from torch.autograd import Variable\n",
    "\n",
    "device = 'cuda' if torch.cuda.is_available() else 'cpu'"
   ]
  },
  {
   "cell_type": "code",
   "execution_count": 16,
   "metadata": {},
   "outputs": [],
   "source": [
    "def train(X, Y, model, device, epochs=20000, lr=0.00003, log_interval=1000):\n",
    "    inputs = Variable(torch.from_numpy(X).to(device)).float()\n",
    "    targets = Variable(torch.from_numpy(Y).to(device)).float()\n",
    "    \n",
    "    criterion = torch.nn.MSELoss() \n",
    "    optimizer = torch.optim.Adam(model.parameters(), lr=lr)\n",
    "\n",
    "    for i in range(epochs):\n",
    "        optimizer.zero_grad()\n",
    "        preds = model(inputs)\n",
    "        loss = criterion(preds, targets)\n",
    "\n",
    "        loss.backward()\n",
    "\n",
    "        optimizer.step()\n",
    "        \n",
    "        if i % log_interval == 0:\n",
    "            print(f\"loss at iteration {i} is: {loss.item():.4f}\")"
   ]
  },
  {
   "cell_type": "code",
   "execution_count": 17,
   "metadata": {},
   "outputs": [
    {
     "name": "stdout",
     "output_type": "stream",
     "text": [
      "loss at iteration 0 is: 0.0833\n",
      "loss at iteration 1000 is: 0.0487\n",
      "loss at iteration 2000 is: 0.0431\n",
      "loss at iteration 3000 is: 0.0408\n",
      "loss at iteration 4000 is: 0.0399\n",
      "loss at iteration 5000 is: 0.0395\n",
      "loss at iteration 6000 is: 0.0394\n",
      "loss at iteration 7000 is: 0.0393\n",
      "loss at iteration 8000 is: 0.0393\n",
      "loss at iteration 9000 is: 0.0393\n",
      "loss at iteration 10000 is: 0.0393\n",
      "loss at iteration 11000 is: 0.0393\n",
      "loss at iteration 12000 is: 0.0393\n",
      "loss at iteration 13000 is: 0.0393\n",
      "loss at iteration 14000 is: 0.0393\n",
      "loss at iteration 15000 is: 0.0393\n",
      "loss at iteration 16000 is: 0.0393\n",
      "loss at iteration 17000 is: 0.0393\n",
      "loss at iteration 18000 is: 0.0393\n",
      "loss at iteration 19000 is: 0.0393\n"
     ]
    }
   ],
   "source": [
    "import numpy as np\n",
    "\n",
    "fa_dim = fa_mat.shape[1]\n",
    "mid_dim = fa_dim\n",
    "en_dim = en_mat.shape[1]\n",
    "\n",
    "model = torch.nn.Sequential(\n",
    "    torch.nn.Linear(fa_dim, mid_dim),\n",
    "#     torch.nn.ReLU(),\n",
    "#     torch.nn.Linear(mid_dim, en_dim)\n",
    ")\n",
    "model.to(device)\n",
    "\n",
    "train(fa_mat, en_mat, model, device)"
   ]
  },
  {
   "cell_type": "markdown",
   "metadata": {},
   "source": [
    "### Save model for future use"
   ]
  },
  {
   "cell_type": "code",
   "execution_count": 18,
   "metadata": {},
   "outputs": [],
   "source": [
    "torch.save(model.state_dict(), './cross_ling.pt')"
   ]
  },
  {
   "cell_type": "code",
   "execution_count": null,
   "metadata": {},
   "outputs": [],
   "source": []
  }
 ],
 "metadata": {
  "colab": {
   "authorship_tag": "ABX9TyPZxmC/p8xPT19rfZBrseQ3",
   "collapsed_sections": [],
   "mount_file_id": "1KF-bkHLr5yMzpzkgdUomd4BNKl6IP1W_",
   "name": "Text2Vec.ipynb",
   "provenance": []
  },
  "kernelspec": {
   "display_name": "Python 3",
   "language": "python",
   "name": "python3"
  },
  "language_info": {
   "codemirror_mode": {
    "name": "ipython",
    "version": 3
   },
   "file_extension": ".py",
   "mimetype": "text/x-python",
   "name": "python",
   "nbconvert_exporter": "python",
   "pygments_lexer": "ipython3",
   "version": "3.8.8"
  }
 },
 "nbformat": 4,
 "nbformat_minor": 4
}
