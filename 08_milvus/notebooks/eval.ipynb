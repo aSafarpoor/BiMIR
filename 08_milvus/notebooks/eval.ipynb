{
 "cells": [
  {
   "cell_type": "code",
   "execution_count": 1,
   "id": "f0285f15-65bf-4c42-98b1-af41c1f3c00b",
   "metadata": {},
   "outputs": [],
   "source": [
    "import pandas as pd\n",
    "import requests\n",
    "import numpy as np"
   ]
  },
  {
   "cell_type": "code",
   "execution_count": 2,
   "id": "f4684734-c4b0-464b-95dc-a6796f7d7d44",
   "metadata": {},
   "outputs": [],
   "source": [
    "SERVER = \"http://192.168.1.10:5000/\"\n",
    "TABLE = 'up'"
   ]
  },
  {
   "cell_type": "code",
   "execution_count": 3,
   "id": "914182ce-8796-48a1-980d-bce59e011a1b",
   "metadata": {},
   "outputs": [],
   "source": [
    "def search(query, en_mode):\n",
    "    action = 'search_en' if en_mode else 'search'\n",
    "    url = f\"{SERVER}{action}?table_name={TABLE}&query_sentence={query}\"\n",
    "\n",
    "    headers = {\n",
    "      'accept': 'application/json'\n",
    "    }\n",
    "\n",
    "    response = requests.request(\"GET\", url, headers=headers)\n",
    "\n",
    "    return response.json()\n",
    "\n",
    "def get_reversed_rank(query, paper_id, parag_id, en_mode):\n",
    "    concat_info = f'{paper_id}#{parag_id}'\n",
    "    results = search(query, en_mode)\n",
    "    return_value = 0\n",
    "    for idx, row in enumerate(results):\n",
    "        if concat_info in row['title']:\n",
    "            return_value = 1 / (idx+1)\n",
    "            break\n",
    "    return return_value"
   ]
  },
  {
   "cell_type": "markdown",
   "id": "3ccaf7c9-a1a8-44ee-b600-2fba7ffe8fd1",
   "metadata": {},
   "source": [
    "# Eval over Farsi queries"
   ]
  },
  {
   "cell_type": "code",
   "execution_count": 4,
   "id": "24909439-7295-403d-8b36-78616118d214",
   "metadata": {},
   "outputs": [],
   "source": [
    "df = pd.read_csv('./eval_parags_cleaned.csv')\n",
    "\n",
    "results = []\n",
    "for paper_id, parag_id, persian_clean in zip(df['paper_id'], df['parag_id'], df['persian_clean']):\n",
    "    results.append(get_reversed_rank(persian_clean, paper_id, parag_id, False))\n",
    "\n",
    "reusults = np.array(results)\n",
    "mrr = np.average(results)\n",
    "not_found = np.sum(np.array(results) == 0)\n",
    "first_found = np.sum(np.array(results) == 1)"
   ]
  },
  {
   "cell_type": "code",
   "execution_count": 5,
   "id": "3c1a9ca8-f0d4-4d7c-ae70-78969eadb9af",
   "metadata": {},
   "outputs": [
    {
     "name": "stdout",
     "output_type": "stream",
     "text": [
      "MRR is: 0.14282581453634086\n",
      "Not found count is: 201\n",
      "First found count is: 22\n"
     ]
    }
   ],
   "source": [
    "print(f'MRR is: {mrr}')\n",
    "print(f'Not found count is: {not_found}')\n",
    "print(f'First found count is: {first_found}')"
   ]
  },
  {
   "cell_type": "markdown",
   "id": "05799234-3003-41a1-971d-35f1f49da59b",
   "metadata": {},
   "source": [
    "# Eval over English queries"
   ]
  },
  {
   "cell_type": "code",
   "execution_count": 6,
   "id": "4980d2bc-52e4-4b30-b8bb-72c3b3605a27",
   "metadata": {},
   "outputs": [],
   "source": [
    "results = []\n",
    "for paper_id, parag_id, en_con in zip(df['paper_id'], df['parag_id'], df['contcated']):\n",
    "    results.append(get_reversed_rank(en_con, paper_id, parag_id, True))\n",
    "\n",
    "reusults = np.array(results)\n",
    "mrr = np.average(results)\n",
    "not_found = np.sum(np.array(results) == 0)\n",
    "first_found = np.sum(np.array(results) == 1)"
   ]
  },
  {
   "cell_type": "code",
   "execution_count": 7,
   "id": "9849b61a-a2a6-429c-9532-dab5824d8957",
   "metadata": {},
   "outputs": [
    {
     "name": "stdout",
     "output_type": "stream",
     "text": [
      "MRR is: 0.45053519214703425\n",
      "Not found count is: 70\n",
      "First found count is: 98\n"
     ]
    }
   ],
   "source": [
    "print(f'MRR is: {mrr}')\n",
    "print(f'Not found count is: {not_found}')\n",
    "print(f'First found count is: {first_found}')"
   ]
  }
 ],
 "metadata": {
  "kernelspec": {
   "display_name": "Python 3",
   "language": "python",
   "name": "python3"
  },
  "language_info": {
   "codemirror_mode": {
    "name": "ipython",
    "version": 3
   },
   "file_extension": ".py",
   "mimetype": "text/x-python",
   "name": "python",
   "nbconvert_exporter": "python",
   "pygments_lexer": "ipython3",
   "version": "3.8.8"
  }
 },
 "nbformat": 4,
 "nbformat_minor": 5
}
