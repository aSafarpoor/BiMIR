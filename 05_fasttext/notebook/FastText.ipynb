{
  "nbformat": 4,
  "nbformat_minor": 0,
  "metadata": {
    "colab": {
      "name": "FastText.ipynb",
      "provenance": [],
      "collapsed_sections": [],
      "machine_shape": "hm"
    },
    "kernelspec": {
      "name": "python3",
      "display_name": "Python 3"
    },
    "language_info": {
      "name": "python"
    }
  },
  "cells": [
    {
      "cell_type": "markdown",
      "source": [
        "# In the name of Allah"
      ],
      "metadata": {
        "id": "GAqV_rCzspPA"
      }
    },
    {
      "cell_type": "markdown",
      "source": [
        "### Install fasttext python module"
      ],
      "metadata": {
        "id": "Xs_aA1Xbxx0N"
      }
    },
    {
      "cell_type": "code",
      "execution_count": null,
      "metadata": {
        "colab": {
          "base_uri": "https://localhost:8080/"
        },
        "id": "HY2N3lz3smUe",
        "outputId": "e6efaa58-463a-4c58-c6ae-7f5f19ce90d9"
      },
      "outputs": [
        {
          "output_type": "stream",
          "name": "stdout",
          "text": [
            "\u001b[?25l\r\u001b[K     |████▊                           | 10 kB 18.8 MB/s eta 0:00:01\r\u001b[K     |█████████▌                      | 20 kB 22.9 MB/s eta 0:00:01\r\u001b[K     |██████████████▎                 | 30 kB 25.3 MB/s eta 0:00:01\r\u001b[K     |███████████████████             | 40 kB 19.0 MB/s eta 0:00:01\r\u001b[K     |███████████████████████▉        | 51 kB 13.2 MB/s eta 0:00:01\r\u001b[K     |████████████████████████████▋   | 61 kB 15.0 MB/s eta 0:00:01\r\u001b[K     |████████████████████████████████| 68 kB 5.1 MB/s \n",
            "\u001b[?25h  Building wheel for fasttext (setup.py) ... \u001b[?25l\u001b[?25hdone\n"
          ]
        }
      ],
      "source": [
        "!pip -q install fasttext"
      ]
    },
    {
      "cell_type": "code",
      "source": [
        "import fasttext"
      ],
      "metadata": {
        "id": "RZGPr_0Ks8rt"
      },
      "execution_count": null,
      "outputs": []
    },
    {
      "cell_type": "markdown",
      "source": [
        "### Install fasttext from source"
      ],
      "metadata": {
        "id": "v1OZCoTYxs1H"
      }
    },
    {
      "cell_type": "code",
      "source": [
        "!wget https://github.com/facebookresearch/fastText/archive/v0.9.2.zip\n",
        "!unzip v0.9.2.zip\n",
        "%cd 'fastText-0.9.2'\n",
        "!make"
      ],
      "metadata": {
        "id": "tZ_wCN7Kt3Bu"
      },
      "execution_count": null,
      "outputs": []
    },
    {
      "cell_type": "markdown",
      "source": [
        "### Path to the data (Download links in github)."
      ],
      "metadata": {
        "id": "wGi74FfEx1f9"
      }
    },
    {
      "cell_type": "code",
      "source": [
        "en_data = './all-en_parags_normd.txt'\n",
        "fa_data = './all-fa_parags_normd.txt'"
      ],
      "metadata": {
        "id": "Eea8sSZ4q6jL"
      },
      "execution_count": null,
      "outputs": []
    },
    {
      "cell_type": "markdown",
      "source": [
        "### Path to where model bin file will be saved."
      ],
      "metadata": {
        "id": "hQqHGRR4q8zE"
      }
    },
    {
      "cell_type": "code",
      "source": [
        "en_bin = './model_en.bin'\n",
        "fa_bin = './model_fa.bin'"
      ],
      "metadata": {
        "id": "nceS-MLEq_Yz"
      },
      "execution_count": null,
      "outputs": []
    },
    {
      "cell_type": "markdown",
      "source": [
        "### Path to where model vec file will be saved."
      ],
      "metadata": {
        "id": "gpF0K_R3rEz2"
      }
    },
    {
      "cell_type": "code",
      "source": [
        "en_vec = './model_en.vec'\n",
        "fa_vec = './model_fa.vec'"
      ],
      "metadata": {
        "id": "F5QwbTSprCdb"
      },
      "execution_count": null,
      "outputs": []
    },
    {
      "cell_type": "markdown",
      "source": [
        "### Path to idf files (Download links in github)."
      ],
      "metadata": {
        "id": "7KDNWpcbrI3h"
      }
    },
    {
      "cell_type": "code",
      "source": [
        "en_idf_addr = './dictionary_idf_en_df.pickle'\n",
        "fa_idf_addr = './dictionary_idf_fa_df.pickle'"
      ],
      "metadata": {
        "id": "jyAGhZy0kdO2"
      },
      "execution_count": null,
      "outputs": []
    },
    {
      "cell_type": "markdown",
      "source": [
        "### Train English fasttext with 300 dimension and 20 epochs"
      ],
      "metadata": {
        "id": "DLLVjOrQx57f"
      }
    },
    {
      "cell_type": "code",
      "source": [
        "!./fasttext skipgram -input '$en_data' -output /content/drive/MyDrive/BIFO/temp/fasttext/model -dim 300 -epoch 20"
      ],
      "metadata": {
        "colab": {
          "base_uri": "https://localhost:8080/"
        },
        "id": "vdEbzcZ8k5OJ",
        "outputId": "6b6ce98a-df5b-44a8-a53b-d9599619db5d"
      },
      "execution_count": null,
      "outputs": [
        {
          "output_type": "stream",
          "name": "stdout",
          "text": [
            "Read 103M words\n",
            "Number of words:  162300\n",
            "Number of labels: 0\n",
            "tcmalloc: large alloc 2594766848 bytes == 0x560559646000 @  0x7ff2745f0887 0x5605479b3a76 0x5605479c163e 0x5605479c9192 0x5605479d0d74 0x560547987857 0x7ff27368dbf7 0x560547987b1a\n",
            "Progress: 100.0% words/sec/thread:    8525 lr:  0.000000 avg.loss:  0.242010 ETA:   0h 0m 0s\n"
          ]
        }
      ]
    },
    {
      "cell_type": "markdown",
      "source": [
        "### Train Farsi fasttext with 300 dimension and 20 epochs"
      ],
      "metadata": {
        "id": "j8Ux4-zQrbou"
      }
    },
    {
      "cell_type": "code",
      "source": [
        "!./fasttext skipgram -input '$fa_data' -output /content/drive/MyDrive/BIFO/temp/fasttext/model_fa -dim 300 -epoch 20"
      ],
      "metadata": {
        "colab": {
          "base_uri": "https://localhost:8080/"
        },
        "id": "4hlC7V7wGmGp",
        "outputId": "64d88baf-fdd4-4183-d07b-ae5d3745c188"
      },
      "execution_count": null,
      "outputs": [
        {
          "output_type": "stream",
          "name": "stdout",
          "text": [
            "Read 13M words\n",
            "Number of words:  50730\n",
            "Number of labels: 0\n",
            "tcmalloc: large alloc 2460876800 bytes == 0x55a52c85a000 @  0x7f064c12d887 0x55a5217bfa76 0x55a5217cd63e 0x55a5217d5192 0x55a5217dcd74 0x55a521793857 0x7f064b1cabf7 0x55a521793b1a\n",
            "Progress: 100.0% words/sec/thread:   10475 lr:  0.000000 avg.loss:  1.106538 ETA:   0h 0m 0s\n"
          ]
        }
      ]
    },
    {
      "cell_type": "markdown",
      "source": [
        "### Load fasttext bin and vec files (Optional)"
      ],
      "metadata": {
        "id": "1PzNRZpJyAKq"
      }
    },
    {
      "cell_type": "code",
      "source": [
        "model_en = fasttext.load_model(en_bin)\n",
        "model_fa = fasttext.load_model(fa_bin)"
      ],
      "metadata": {
        "colab": {
          "base_uri": "https://localhost:8080/"
        },
        "id": "mFjNSXZ9yEFH",
        "outputId": "e0d546f8-8842-4aed-9309-4b90e6df4503"
      },
      "execution_count": null,
      "outputs": [
        {
          "output_type": "stream",
          "name": "stderr",
          "text": [
            "Warning : `load_model` does not return WordVectorModel or SupervisedModel any more, but a `FastText` object which is very similar.\n",
            "Warning : `load_model` does not return WordVectorModel or SupervisedModel any more, but a `FastText` object which is very similar.\n"
          ]
        }
      ]
    },
    {
      "cell_type": "markdown",
      "source": [
        "### Get word vector (even if it is not available in the dictionary, so it gets its nearest neighbors vector using subword-level information)"
      ],
      "metadata": {
        "id": "Q7tQFqDW1a_g"
      }
    },
    {
      "cell_type": "code",
      "source": [
        "model_en.get_word_vector('hello')"
      ],
      "metadata": {
        "id": "NdLt41d91LHY"
      },
      "execution_count": null,
      "outputs": []
    },
    {
      "cell_type": "markdown",
      "source": [
        "### Get nearest neighbors from the query"
      ],
      "metadata": {
        "id": "d9CrrfIC2SLd"
      }
    },
    {
      "cell_type": "code",
      "source": [
        "model_en.get_nearest_neighbors('covid19')"
      ],
      "metadata": {
        "colab": {
          "base_uri": "https://localhost:8080/"
        },
        "id": "5sdFrTsL2b1n",
        "outputId": "401a0479-b65e-434c-b53c-82de6d232aa5"
      },
      "execution_count": null,
      "outputs": [
        {
          "output_type": "execute_result",
          "data": {
            "text/plain": [
              "[(0.7213409543037415, 'covid'),\n",
              " (0.6606242656707764, 'covid‐19'),\n",
              " (0.5867980718612671, 'coronavirus'),\n",
              " (0.5814511775970459, 'pandemic'),\n",
              " (0.5804561376571655, 'covishield'),\n",
              " (0.5792034268379211, 'sars'),\n",
              " (0.5780686736106873, 'cov'),\n",
              " (0.5737228393554688, '19'),\n",
              " (0.5609301924705505, 'ncidod'),\n",
              " (0.5503444671630859, 'ncov')]"
            ]
          },
          "metadata": {},
          "execution_count": 18
        }
      ]
    }
  ]
}