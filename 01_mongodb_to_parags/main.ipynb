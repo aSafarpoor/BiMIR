{
 "cells": [
  {
   "cell_type": "markdown",
   "id": "8e10c418-5437-4615-b109-25c0f66908d4",
   "metadata": {},
   "source": [
    "# Load uptodate json data"
   ]
  },
  {
   "cell_type": "code",
   "execution_count": 1,
   "id": "73a64f1f-8594-4418-876a-335cacc59d2a",
   "metadata": {},
   "outputs": [],
   "source": [
    "import json\n",
    "\n",
    "with open('uptodate.json', 'r') as f:\n",
    "    data = json.load(f)"
   ]
  },
  {
   "cell_type": "markdown",
   "id": "a66caf9f-6d10-400c-bf2f-d09c992d9d57",
   "metadata": {},
   "source": [
    "#### Number of records"
   ]
  },
  {
   "cell_type": "code",
   "execution_count": 2,
   "id": "621a3281-a5e3-45db-89fa-a16abd8c5bc4",
   "metadata": {},
   "outputs": [
    {
     "data": {
      "text/plain": [
       "18488"
      ]
     },
     "execution_count": 2,
     "metadata": {},
     "output_type": "execute_result"
    }
   ],
   "source": [
    "len(data)"
   ]
  },
  {
   "cell_type": "markdown",
   "id": "c46516f4-9f56-4b41-b4d6-7e6b0bc85355",
   "metadata": {},
   "source": [
    "#### A sample record"
   ]
  },
  {
   "cell_type": "code",
   "execution_count": 3,
   "id": "b6301010-d457-4a38-a487-6a8b959c66b9",
   "metadata": {},
   "outputs": [
    {
     "data": {
      "text/plain": [
       "{'_id': {'$oid': '61db0221594f5b96006a4db9'},\n",
       " 'topicInfo': {'isDrugLandingPage': False,\n",
       "  'languageDisplayNames': {'ar': 'Arabic',\n",
       "   'en-US': 'English',\n",
       "   'es-419': 'Spanish'},\n",
       "  'translatedTopicInfos': [{'displayName': 'Arabic',\n",
       "    'specialtyId': '12',\n",
       "    'lastMajorUpdateMs': '1639612800000',\n",
       "    'id': '15480',\n",
       "    'type': 'medical',\n",
       "    'subtype': 'medical_basics',\n",
       "    'version': '11.1',\n",
       "    'title': 'توعية المرضى: الذئبة (الأساسيات)',\n",
       "    'languageCode': 'ar',\n",
       "    'languageCodes': ['ar', 'zh-Hans', 'en-US', 'es-419'],\n",
       "    'url': '/contents/ar/lupus-the-basics',\n",
       "    'translatedTitles': {'ja': '患者教育：全身性エリテマトーデス（簡易）'}},\n",
       "   {'displayName': 'English',\n",
       "    'specialtyId': '12',\n",
       "    'lastMajorUpdateMs': '1639612800000',\n",
       "    'id': '15480',\n",
       "    'type': 'medical',\n",
       "    'subtype': 'medical_basics',\n",
       "    'version': '12.0',\n",
       "    'title': 'Patient education: Lupus (The Basics)',\n",
       "    'languageCode': 'en-US',\n",
       "    'languageCodes': ['ar', 'zh-Hans', 'en-US', 'es-419'],\n",
       "    'url': '/contents/lupus-the-basics',\n",
       "    'translatedTitles': {'ja': '患者教育：全身性エリテマトーデス（簡易）'}},\n",
       "   {'displayName': 'Spanish',\n",
       "    'specialtyId': '12',\n",
       "    'lastMajorUpdateMs': '1639612800000',\n",
       "    'id': '15480',\n",
       "    'type': 'medical',\n",
       "    'subtype': 'medical_basics',\n",
       "    'version': '11.1',\n",
       "    'title': 'Educación para el paciente: Lupus (Conceptos Básicos)',\n",
       "    'languageCode': 'es-419',\n",
       "    'languageCodes': ['ar', 'zh-Hans', 'en-US', 'es-419'],\n",
       "    'url': '/contents/es-419/lupus-the-basics',\n",
       "    'translatedTitles': {'ja': '患者教育：全身性エリテマトーデス（簡易）'}}],\n",
       "  'relatedGraphics': [],\n",
       "  'id': '15480',\n",
       "  'type': 'medical',\n",
       "  'subtype': 'medical_basics',\n",
       "  'version': '12.0',\n",
       "  'title': 'Patient education: Lupus (The Basics)',\n",
       "  'languageCode': 'en-US',\n",
       "  'languageCodes': ['ar', 'en-US', 'es-419'],\n",
       "  'translatedTitles': {'ja': '患者教育：全身性エリテマトーデス（簡易）'}},\n",
       " 'outlineHtml': '<div><nav id=\"outlineSections\"><h2>Topic Outline</h2><ul id=\"innerOutline\"><li><a href=\"#H482505446\" id=\"outline-link-H482505446\">What is lupus?</a></li><li><a href=\"#H482505453\" id=\"outline-link-H482505453\">What are the symptoms of lupus?</a></li><li><a href=\"#H482505460\" id=\"outline-link-H482505460\">Can I do anything on my own to feel better?</a></li><li><a href=\"#H482505467\" id=\"outline-link-H482505467\">What are the treatments for lupus?</a></li><li><a href=\"#H482505474\" id=\"outline-link-H482505474\">What if I want to get pregnant?</a></li><li><a href=\"#H482505481\" id=\"outline-link-H482505481\">How will lupus affect my life?</a></li><li><a href=\"#H482505511\" id=\"outline-link-H482505511\">More on this topic</a></li></ul></nav><section id=\"outlineRelatedTopicsLinks\"><h2>RELATED TOPICS</h2><nav id=\"outlineTopics\"><ul><li class=\"plainItem\"><a href=\"/contents/antinuclear-antibodies-the-basics?topicRef=15480&amp;source=related_link\" class=\"medical medical_basics\">Patient education: Antinuclear antibodies (The Basics)</a></li><li class=\"plainItem\"><a href=\"/contents/discoid-lupus-the-basics?topicRef=15480&amp;source=related_link\" class=\"medical medical_basics\">Patient education: Discoid lupus (The Basics)</a></li><li class=\"plainItem\"><a href=\"/contents/disease-modifying-antirheumatic-drugs-dmards-the-basics?topicRef=15480&amp;source=related_link\" class=\"medical medical_basics\">Patient education: Disease modifying antirheumatic drugs (DMARDs) (The Basics)</a></li><li class=\"plainItem\"><a href=\"/contents/lupus-and-kidney-disease-the-basics?topicRef=15480&amp;source=related_link\" class=\"medical medical_basics\">Patient education: Lupus and kidney disease (The Basics)</a></li><li class=\"plainItem\"><a href=\"/contents/lupus-and-pregnancy-the-basics?topicRef=15480&amp;source=related_link\" class=\"medical medical_basics\">Patient education: Lupus and pregnancy (The Basics)</a></li><li class=\"plainItem\"><a href=\"/contents/oral-steroid-medicines-the-basics?topicRef=15480&amp;source=related_link\" class=\"medical medical_basics\">Patient education: Oral steroid medicines (The Basics)</a></li><li class=\"plainItem\"><a href=\"/contents/systemic-lupus-erythematosus-beyond-the-basics?topicRef=15480&amp;source=related_link\" class=\"medical medical_patient\">Patient education: Systemic lupus erythematosus (Beyond the Basics)</a></li><li class=\"plainItem\"><a href=\"/contents/systemic-lupus-erythematosus-and-pregnancy-beyond-the-basics?topicRef=15480&amp;source=related_link\" class=\"medical medical_patient\">Patient education: Systemic lupus erythematosus and pregnancy (Beyond the Basics)</a></li></ul></nav></section></div>',\n",
       " 'bodyHtml': '<div id=\"topicContent\" class=\"utdArticleSection utdStyle\"><div id=\"topicTitle\">Patient education: Lupus (The Basics)</div> <span class=\"view\"></span><div><a href=\"/contents/authors-and-editors/patient-education\" class=\"contributors-marketing\">Written by the doctors and editors at UpToDate</a></div><div id=\"topicText\"><p class=\"headingAnchor\" id=\"H482505446\"><span class=\"h1\">What is lupus?</span><span class=\"headingEndMark\">&#160;&#8212;&#160;</span>Lupus is a type of &quot;autoimmune disease.&quot;</p><p>When it is working normally, the body\\'s immune system kills germs and &quot;bad&quot; cells that could turn into cancer. When a person has an autoimmune disease, instead of killing only bad cells, the immune system starts to attack healthy cells. This is called an &quot;autoimmune response.&quot; It can happen in certain parts of the body in people who get lupus. This is what causes symptoms.</p><p class=\"headingAnchor\" id=\"H482505453\"><span class=\"h1\">What are the symptoms of lupus?</span><span class=\"headingEndMark\">&#160;&#8212;&#160;</span>People with lupus can:</p><p class=\"bulletIndent1\"><span class=\"glyph\">&#9679;</span>Feel tired or weak</p><p class=\"bulletIndent1\"><span class=\"glyph\">&#9679;</span>Lose or gain weight</p><p class=\"bulletIndent1\"><span class=\"glyph\">&#9679;</span>Get fevers</p><p class=\"bulletIndent1\"><span class=\"glyph\">&#9679;</span>Get headaches</p><p class=\"bulletIndent1\"><span class=\"glyph\">&#9679;</span>Get a butterfly-shaped rash on their nose and cheeks, especially after being in the sun</p><p class=\"bulletIndent1\"><span class=\"glyph\">&#9679;</span>Lose some hair</p><p class=\"bulletIndent1\"><span class=\"glyph\">&#9679;</span>Get chest pain</p><p class=\"bulletIndent1\"><span class=\"glyph\">&#9679;</span>Have trouble breathing</p><p class=\"bulletIndent1\"><span class=\"glyph\">&#9679;</span>Bruise easily</p><p class=\"bulletIndent1\"><span class=\"glyph\">&#9679;</span>Have joint pain and stiffness</p><p class=\"bulletIndent1\"><span class=\"glyph\">&#9679;</span>Have swelling in the hands, feet, belly, or around the eyes</p><p class=\"bulletIndent1\"><span class=\"glyph\">&#9679;</span>Have urine that looks brown (tea-colored) or foamy</p><p class=\"bulletIndent1\"><span class=\"glyph\">&#9679;</span>Get sores in the mouth</p><p class=\"bulletIndent1\"><span class=\"glyph\">&#9679;</span>Get cold fingers or toes that turn pale or blue</p><p/><p>Lupus can also make it hard to think clearly, and it can make people feel anxious and sad. That is partly because the disease attacks the brain, and partly because the disease is hard to deal with.</p><p class=\"headingAnchor\" id=\"H482505460\"><span class=\"h1\">Can I do anything on my own to feel better?</span><span class=\"headingEndMark\">&#160;&#8212;&#160;</span>Yes. It can help to eat a healthy diet, full of fruits and vegetables. It\\'s also important to stay active, even if you do not feel well. If you rest too much, your muscles will get weak and you might feel even worse later. Also, any time a doctor or nurse gives you medicine, make sure they know you have lupus. Some medicines make lupus worse. It is important that you not take them.</p><p class=\"headingAnchor\" id=\"H482505467\"><span class=\"h1\">What are the treatments for lupus?</span><span class=\"headingEndMark\">&#160;&#8212;&#160;</span>There are medicines that can ease lupus symptoms, decrease the autoimmune response, or both. These medicines include:</p><p class=\"bulletIndent1\"><span class=\"glyph\">&#9679;</span>NSAIDs, such as <a href=\"/contents/ibuprofen-patient-drug-information?topicRef=15480&amp;source=see_link\" data-topicId=\"11763\" class=\"drug drug_patient\">ibuprofen</a> (sample brand names: Advil, Motrin) or <a href=\"/contents/naproxen-patient-drug-information?topicRef=15480&amp;source=see_link\" data-topicId=\"11801\" class=\"drug drug_patient\">naproxen</a> (sample brand name: Aleve), which can ease joint pain</p><p/><p class=\"bulletIndent1\"><span class=\"glyph\">&#9679;</span>Medicines called &quot;<a href=\"/contents/hydroxychloroquine-patient-drug-information?topicRef=15480&amp;source=see_link\" data-topicId=\"11380\" class=\"drug drug_patient\">hydroxychloroquine</a>&quot; or &quot;<a href=\"/contents/chloroquine-patient-drug-information?topicRef=15480&amp;source=see_link\" data-topicId=\"11325\" class=\"drug drug_patient\">chloroquine</a>,&quot; which were originally made to treat malaria but can also help with lupus</p><p/><p class=\"bulletIndent1\"><span class=\"glyph\">&#9679;</span>Steroids and related medicines, which partly &quot;turn off&quot; the immune system, and can help with many of the problems caused by lupus</p><p/><p>Steroids can do a lot of good, because they control the disease. But they can also cause problems of their own. For instance, steroids can cause weight gain, make bones weak, or make diabetes worse (or even cause diabetes).</p><p class=\"headingAnchor\" id=\"H482505474\"><span class=\"h1\">What if I want to get pregnant?</span><span class=\"headingEndMark\">&#160;&#8212;&#160;</span>People with lupus are more likely than other people to have problems with pregnancy. But they can have healthy babies.</p><p>If you would like to get pregnant, speak with your doctor or nurse before you start trying. There are ways for you to lower the chances of having problems. For example, it is important that you wait until you have not had lupus symptoms for at least 6 months.</p><p class=\"headingAnchor\" id=\"H482505481\"><span class=\"h1\">How will lupus affect my life?</span><span class=\"headingEndMark\">&#160;&#8212;&#160;</span>You will have lupus for the rest of your life. It might be severe, or it might be mild. Either way, doctors and nurses today know a lot about how to handle the disease. You are likely to live a long time. And you might even find that your symptoms go away for long periods.</p><p class=\"headingAnchor\" id=\"H482505511\"><span class=\"h1\">More on this topic</span></p><p> <a href=\"/contents/lupus-and-pregnancy-the-basics?topicRef=15480&amp;source=see_link\" class=\"medical medical_basics\">Patient education: Lupus and pregnancy (The Basics)</a><br/> <a href=\"/contents/lupus-and-kidney-disease-the-basics?topicRef=15480&amp;source=see_link\" class=\"medical medical_basics\">Patient education: Lupus and kidney disease (The Basics)</a><br/> <a href=\"/contents/antinuclear-antibodies-the-basics?topicRef=15480&amp;source=see_link\" class=\"medical medical_basics\">Patient education: Antinuclear antibodies (The Basics)</a><br/> <a href=\"/contents/disease-modifying-antirheumatic-drugs-dmards-the-basics?topicRef=15480&amp;source=see_link\" class=\"medical medical_basics\">Patient education: Disease modifying antirheumatic drugs (DMARDs) (The Basics)</a><br/> <a href=\"/contents/discoid-lupus-the-basics?topicRef=15480&amp;source=see_link\" class=\"medical medical_basics\">Patient education: Discoid lupus (The Basics)</a><br/> <a href=\"/contents/oral-steroid-medicines-the-basics?topicRef=15480&amp;source=see_link\" class=\"medical medical_basics\">Patient education: Oral steroid medicines (The Basics)</a></p><p> <a href=\"/contents/systemic-lupus-erythematosus-beyond-the-basics?topicRef=15480&amp;source=see_link\" class=\"medical medical_patient\">Patient education: Systemic lupus erythematosus (Beyond the Basics)</a><br/> <a href=\"/contents/systemic-lupus-erythematosus-and-pregnancy-beyond-the-basics?topicRef=15480&amp;source=see_link\" class=\"medical medical_patient\">Patient education: Systemic lupus erythematosus and pregnancy (Beyond the Basics)</a></p></div><div id=\"reviewProcess\"><span>All topics are updated as new evidence becomes available and our <a href=\"/home/editorial-policy\" target=\"_blank\" class=\"policy policy_editorialpolicy\">peer review process</a> is complete.</span></div><div id=\"topicRetrievedDate\"><span class=\"emphasis\">This topic retrieved from UpToDate on: </span>Jan 09, 2022.</div><div id=\"disclaimer\">The content on the UpToDate website is not intended nor recommended as a substitute for medical advice, diagnosis, or treatment.  Always seek the advice of your own physician or other qualified health care professional regarding any medical questions or conditions.\\nThe use of UpToDate content is governed by the <a href=\"/legal/terms-of-use\" class=\"legal legal_termsofuse\">UpToDate Terms of Use</a>. &copy;2022 UpToDate, Inc. All rights reserved.</div><div id=\"topicVersionRevision\">Topic 15480 Version 12.0</div></div>',\n",
       " 'viewOutlineText': 'View Outline',\n",
       " 'viewTopicText': 'View Topic',\n",
       " 'metaDescription': \"Lupus is a type of autoimmune disease.When it is working normally, the body's immune system kills germs and bad cells that could turn into cancer. When a person\",\n",
       " 'showTopicFeedback': True,\n",
       " 'isCanShare': True,\n",
       " 'isCanBookmark': True,\n",
       " 'endpoint': '/contents/topic/lupus-the-basics',\n",
       " 'topics_stack': ['Contents', 'Patient Education', 'Autoimmune disease']}"
      ]
     },
     "execution_count": 3,
     "metadata": {},
     "output_type": "execute_result"
    }
   ],
   "source": [
    "data[100]"
   ]
  },
  {
   "cell_type": "markdown",
   "id": "995d1323-a84e-4936-b52e-dbd01045550c",
   "metadata": {},
   "source": [
    "# Removing useless info and seprationg paragraphs"
   ]
  },
  {
   "cell_type": "code",
   "execution_count": 4,
   "id": "7d0690f6-409d-40dd-91d8-6f260bdb432b",
   "metadata": {},
   "outputs": [],
   "source": [
    "from bs4 import BeautifulSoup\n",
    "\n",
    "def get_paper_info(row):\n",
    "    return {\n",
    "        'id': row['topicInfo']['id'],\n",
    "        'type': row['topicInfo']['type'],\n",
    "        'subtype': row['topicInfo']['subtype'],\n",
    "        'title': row['topicInfo']['title']\n",
    "    }\n",
    "\n",
    "def get_paragraphs(row):\n",
    "    return_value = []\n",
    "    idx = 1\n",
    "    def add_parag(title, text):\n",
    "        nonlocal idx\n",
    "        if len(text) > 50:\n",
    "            return_value.append((idx,title, text))\n",
    "            idx += 1\n",
    "    body = row['bodyHtml']\n",
    "    soup = BeautifulSoup(body)\n",
    "    for div in soup.find_all(\"span\", {'class':'glyph'}): \n",
    "        div.decompose()\n",
    "        \n",
    "    if len(soup.find_all(\"div\", {'class':'headingAnchor'})) == 0:\n",
    "        return None\n",
    "    \n",
    "    parags = soup.find(\"div\", {\"id\": \"topicText\"})\n",
    "    \n",
    "    parag_subtitle = None\n",
    "    parag_text = ''\n",
    "    \n",
    "    \n",
    "    \n",
    "    for child in parags.children:\n",
    "        if not hasattr(child, 'get'):\n",
    "            return None\n",
    "        \n",
    "        child_class = child.get(\"class\")\n",
    "        if child_class is not None and 'headingAnchor' in child.get(\"class\"):\n",
    "            add_parag(parag_subtitle, parag_text)\n",
    "                    \n",
    "            heading_element = child.next_element\n",
    "            parag_subtitle = heading_element.text\n",
    "            child.next_element.decompose()\n",
    "            if child.next_element is not None and child.next_element.has_attr(\"class\") and 'headingEndMark' in child.next_element.get(\"class\"):\n",
    "                child.next_element.decompose()\n",
    "            parag_text = child.text\n",
    "        else:\n",
    "            parag_text = parag_text + child.text\n",
    "            \n",
    "    add_parag(parag_subtitle, parag_text)\n",
    "\n",
    "        \n",
    "    return return_value"
   ]
  },
  {
   "cell_type": "code",
   "execution_count": 5,
   "id": "5adfa6f7-437f-4f91-8382-d568f782080c",
   "metadata": {},
   "outputs": [
    {
     "name": "stderr",
     "output_type": "stream",
     "text": [
      "100%|██████████| 18488/18488 [04:27<00:00, 69.08it/s] \n"
     ]
    }
   ],
   "source": [
    "import tqdm\n",
    "all_res = []\n",
    "for row in tqdm.tqdm(data):\n",
    "    info = get_paper_info(row)\n",
    "    parags = get_paragraphs(row)\n",
    "    if parags is not None:\n",
    "        all_res.append({\n",
    "            'info': info,\n",
    "            'parags': parags\n",
    "        })\n",
    "        "
   ]
  },
  {
   "cell_type": "markdown",
   "id": "1f3d8505-8b72-4c0d-8000-331de75e31e5",
   "metadata": {},
   "source": [
    "#### Number of remaining records"
   ]
  },
  {
   "cell_type": "code",
   "execution_count": 6,
   "id": "deafe510-1d03-425c-93c3-f45301fe48f3",
   "metadata": {},
   "outputs": [
    {
     "data": {
      "text/plain": [
       "9975"
      ]
     },
     "execution_count": 6,
     "metadata": {},
     "output_type": "execute_result"
    }
   ],
   "source": [
    "len(all_res)"
   ]
  },
  {
   "cell_type": "markdown",
   "id": "bbd7149e-caad-4932-a5d7-84cbee964cb5",
   "metadata": {},
   "source": [
    "# Convert the cleaned data into a df format to save as CSV"
   ]
  },
  {
   "cell_type": "code",
   "execution_count": 14,
   "id": "6b198e8c-c605-4e96-be7e-d5e7323ebf00",
   "metadata": {},
   "outputs": [],
   "source": [
    "import pandas as pd\n",
    "\n",
    "def all_res_row_convert(row):\n",
    "    return [{\n",
    "        'paper_id': row['info']['id'],\n",
    "        'parag_id': parag[0],\n",
    "        'title': row['info']['title'],\n",
    "        'subtitle': parag[1],\n",
    "        'text': parag[2]\n",
    "    } for parag in row['parags']]\n",
    "\n",
    "def convert_to_df(rows):\n",
    "    all_row_converted = []\n",
    "    for row in rows:\n",
    "        all_row_converted += all_res_row_convert(row)\n",
    "    return pd.DataFrame(all_row_converted)"
   ]
  },
  {
   "cell_type": "code",
   "execution_count": 15,
   "id": "15cb0cf4-d167-4860-91b4-4602c134fd68",
   "metadata": {},
   "outputs": [],
   "source": [
    "convert_to_df(all_res).to_csv('all_parags.csv', index=False)"
   ]
  },
  {
   "cell_type": "markdown",
   "id": "4370430f-fc58-4016-8324-3e21426ed8a4",
   "metadata": {},
   "source": [
    "# Sample from patient education papers for eval data"
   ]
  },
  {
   "cell_type": "code",
   "execution_count": 16,
   "id": "b036ecd9-eacc-46e5-bd58-e059ad237f3e",
   "metadata": {},
   "outputs": [],
   "source": [
    "pe = []\n",
    "for res in all_res:\n",
    "    title = res['info']['title'].lower()\n",
    "    if 'patient education' == title[:17]:\n",
    "        pe.append(res)\n",
    "\n",
    "pe_df = convert_to_df(pe)\n",
    "pe_df_sample = pe_df.sample(frac=1/13).reset_index(drop=True)"
   ]
  },
  {
   "cell_type": "code",
   "execution_count": 17,
   "id": "d04e461e-872a-4972-8999-e2ef7d7a3d99",
   "metadata": {},
   "outputs": [
    {
     "data": {
      "text/plain": [
       "537"
      ]
     },
     "execution_count": 17,
     "metadata": {},
     "output_type": "execute_result"
    }
   ],
   "source": [
    "pe_df_sample.shape[0]"
   ]
  },
  {
   "cell_type": "code",
   "execution_count": 18,
   "id": "f3affeda-d351-4547-b61c-b76f52b1adca",
   "metadata": {},
   "outputs": [
    {
     "data": {
      "text/html": [
       "<div>\n",
       "<style scoped>\n",
       "    .dataframe tbody tr th:only-of-type {\n",
       "        vertical-align: middle;\n",
       "    }\n",
       "\n",
       "    .dataframe tbody tr th {\n",
       "        vertical-align: top;\n",
       "    }\n",
       "\n",
       "    .dataframe thead th {\n",
       "        text-align: right;\n",
       "    }\n",
       "</style>\n",
       "<table border=\"1\" class=\"dataframe\">\n",
       "  <thead>\n",
       "    <tr style=\"text-align: right;\">\n",
       "      <th></th>\n",
       "      <th>paper_id</th>\n",
       "      <th>parag_id</th>\n",
       "      <th>title</th>\n",
       "      <th>subtitle</th>\n",
       "      <th>text</th>\n",
       "    </tr>\n",
       "  </thead>\n",
       "  <tbody>\n",
       "    <tr>\n",
       "      <th>0</th>\n",
       "      <td>883</td>\n",
       "      <td>4</td>\n",
       "      <td>Patient education: Prostate cancer screening (...</td>\n",
       "      <td>Ethnic background</td>\n",
       "      <td>African American men develop prostate cancer m...</td>\n",
       "    </tr>\n",
       "    <tr>\n",
       "      <th>1</th>\n",
       "      <td>4014</td>\n",
       "      <td>17</td>\n",
       "      <td>Patient education: The common cold in adults (...</td>\n",
       "      <td>The Basics</td>\n",
       "      <td>The Basics patient education pieces answer the...</td>\n",
       "    </tr>\n",
       "    <tr>\n",
       "      <th>2</th>\n",
       "      <td>3438</td>\n",
       "      <td>11</td>\n",
       "      <td>Patient education: Raynaud phenomenon (Beyond ...</td>\n",
       "      <td>WHERE TO GET MORE INFORMATION</td>\n",
       "      <td>Your health care provider is the best source o...</td>\n",
       "    </tr>\n",
       "    <tr>\n",
       "      <th>3</th>\n",
       "      <td>727</td>\n",
       "      <td>8</td>\n",
       "      <td>Patient education: Transient ischemic attack (...</td>\n",
       "      <td>Brain imaging</td>\n",
       "      <td>Depending upon the results of the history and ...</td>\n",
       "    </tr>\n",
       "    <tr>\n",
       "      <th>4</th>\n",
       "      <td>8418</td>\n",
       "      <td>4</td>\n",
       "      <td>Patient education: Infertility treatment with ...</td>\n",
       "      <td>WHO SHOULD CONSIDER INFERTILITY TREATMENT WITH...</td>\n",
       "      <td>There are two categories of women who may bene...</td>\n",
       "    </tr>\n",
       "    <tr>\n",
       "      <th>...</th>\n",
       "      <td>...</td>\n",
       "      <td>...</td>\n",
       "      <td>...</td>\n",
       "      <td>...</td>\n",
       "      <td>...</td>\n",
       "    </tr>\n",
       "    <tr>\n",
       "      <th>532</th>\n",
       "      <td>4009</td>\n",
       "      <td>6</td>\n",
       "      <td>Patient education: Acute sinusitis (sinus infe...</td>\n",
       "      <td>ACUTE SINUSITIS TREATMENT</td>\n",
       "      <td>The primary treatment for sinusitis involves s...</td>\n",
       "    </tr>\n",
       "    <tr>\n",
       "      <th>533</th>\n",
       "      <td>4004</td>\n",
       "      <td>15</td>\n",
       "      <td>Patient education: Acute bronchitis in adults ...</td>\n",
       "      <td>Professional level information</td>\n",
       "      <td>Professional level articles are designed to ke...</td>\n",
       "    </tr>\n",
       "    <tr>\n",
       "      <th>534</th>\n",
       "      <td>8419</td>\n",
       "      <td>12</td>\n",
       "      <td>Patient education: Hormonal methods of birth c...</td>\n",
       "      <td>Side effects</td>\n",
       "      <td>Possible side effects of the pill include:Naus...</td>\n",
       "    </tr>\n",
       "    <tr>\n",
       "      <th>535</th>\n",
       "      <td>6722</td>\n",
       "      <td>3</td>\n",
       "      <td>Patient education: Care during pregnancy for w...</td>\n",
       "      <td>General measures to control blood glucose</td>\n",
       "      <td>Women with type 2 diabetes who have been treat...</td>\n",
       "    </tr>\n",
       "    <tr>\n",
       "      <th>536</th>\n",
       "      <td>863</td>\n",
       "      <td>23</td>\n",
       "      <td>Patient education: Testicular cancer (Beyond t...</td>\n",
       "      <td>Chemotherapy side effects</td>\n",
       "      <td>There are a number of side effects and complic...</td>\n",
       "    </tr>\n",
       "  </tbody>\n",
       "</table>\n",
       "<p>537 rows × 5 columns</p>\n",
       "</div>"
      ],
      "text/plain": [
       "    paper_id  parag_id                                              title  \\\n",
       "0        883         4  Patient education: Prostate cancer screening (...   \n",
       "1       4014        17  Patient education: The common cold in adults (...   \n",
       "2       3438        11  Patient education: Raynaud phenomenon (Beyond ...   \n",
       "3        727         8  Patient education: Transient ischemic attack (...   \n",
       "4       8418         4  Patient education: Infertility treatment with ...   \n",
       "..       ...       ...                                                ...   \n",
       "532     4009         6  Patient education: Acute sinusitis (sinus infe...   \n",
       "533     4004        15  Patient education: Acute bronchitis in adults ...   \n",
       "534     8419        12  Patient education: Hormonal methods of birth c...   \n",
       "535     6722         3  Patient education: Care during pregnancy for w...   \n",
       "536      863        23  Patient education: Testicular cancer (Beyond t...   \n",
       "\n",
       "                                              subtitle  \\\n",
       "0                                    Ethnic background   \n",
       "1                                           The Basics   \n",
       "2                        WHERE TO GET MORE INFORMATION   \n",
       "3                                        Brain imaging   \n",
       "4    WHO SHOULD CONSIDER INFERTILITY TREATMENT WITH...   \n",
       "..                                                 ...   \n",
       "532                          ACUTE SINUSITIS TREATMENT   \n",
       "533                     Professional level information   \n",
       "534                                       Side effects   \n",
       "535          General measures to control blood glucose   \n",
       "536                          Chemotherapy side effects   \n",
       "\n",
       "                                                  text  \n",
       "0    African American men develop prostate cancer m...  \n",
       "1    The Basics patient education pieces answer the...  \n",
       "2    Your health care provider is the best source o...  \n",
       "3    Depending upon the results of the history and ...  \n",
       "4    There are two categories of women who may bene...  \n",
       "..                                                 ...  \n",
       "532  The primary treatment for sinusitis involves s...  \n",
       "533  Professional level articles are designed to ke...  \n",
       "534  Possible side effects of the pill include:Naus...  \n",
       "535  Women with type 2 diabetes who have been treat...  \n",
       "536  There are a number of side effects and complic...  \n",
       "\n",
       "[537 rows x 5 columns]"
      ]
     },
     "execution_count": 18,
     "metadata": {},
     "output_type": "execute_result"
    }
   ],
   "source": [
    "pe_df_sample"
   ]
  },
  {
   "cell_type": "code",
   "execution_count": 19,
   "id": "f28621e8-107f-4e36-9d25-b4ef4abb390b",
   "metadata": {},
   "outputs": [],
   "source": [
    "pe_df_sample.to_csv('eval_parags.csv', index=False)"
   ]
  },
  {
   "cell_type": "code",
   "execution_count": null,
   "id": "5c20b4be-83c1-45e9-ba57-3565766b65f9",
   "metadata": {},
   "outputs": [],
   "source": []
  }
 ],
 "metadata": {
  "kernelspec": {
   "display_name": "Python 3",
   "language": "python",
   "name": "python3"
  },
  "language_info": {
   "codemirror_mode": {
    "name": "ipython",
    "version": 3
   },
   "file_extension": ".py",
   "mimetype": "text/x-python",
   "name": "python",
   "nbconvert_exporter": "python",
   "pygments_lexer": "ipython3",
   "version": "3.8.8"
  }
 },
 "nbformat": 4,
 "nbformat_minor": 5
}
