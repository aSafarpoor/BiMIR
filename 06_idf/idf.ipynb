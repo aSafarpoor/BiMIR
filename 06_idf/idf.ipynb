{
  "nbformat": 4,
  "nbformat_minor": 0,
  "metadata": {
    "colab": {
      "name": "idf.ipynb",
      "provenance": [],
      "collapsed_sections": []
    },
    "kernelspec": {
      "name": "python3",
      "display_name": "Python 3"
    },
    "language_info": {
      "name": "python"
    }
  },
  "cells": [
    {
      "cell_type": "markdown",
      "source": [
        "![image.png](data:image/png;base64,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)"
      ],
      "metadata": {
        "id": "G-LOC4eLICCC"
      }
    },
    {
      "cell_type": "markdown",
      "source": [
        "# inputs"
      ],
      "metadata": {
        "id": "58JTqVKAH6vF"
      }
    },
    {
      "cell_type": "code",
      "source": [
        "file_name = '\"uptodate_parags_normd.txt\"'\n",
        "destination_name = '\"dictionary_idf_en_df.pickle\"'"
      ],
      "metadata": {
        "id": "Hh0C9nm5H5s2"
      },
      "execution_count": null,
      "outputs": []
    },
    {
      "cell_type": "markdown",
      "source": [
        "# imports"
      ],
      "metadata": {
        "id": "K4eR_UN6H2X1"
      }
    },
    {
      "cell_type": "code",
      "source": [
        "import pandas as pd\n",
        "from tqdm import tqdm\n",
        "\n",
        "from sklearn.feature_extraction.text import TfidfTransformer\n",
        "from sklearn.feature_extraction.text import CountVectorizer\n",
        "from sklearn.pipeline import Pipeline"
      ],
      "metadata": {
        "id": "JCHE_Jleb9dq"
      },
      "execution_count": 3,
      "outputs": []
    },
    {
      "cell_type": "markdown",
      "source": [
        "# make data ready"
      ],
      "metadata": {
        "id": "DixGtJZYCg28"
      }
    },
    {
      "cell_type": "code",
      "source": [
        "from google.colab import drive\n",
        "# The drive is mount because, it contains our data\n",
        "drive.mount('/content/gdrive')"
      ],
      "metadata": {
        "id": "CkT5Unx_6Wxt"
      },
      "execution_count": null,
      "outputs": []
    },
    {
      "cell_type": "code",
      "source": [
        "%cd gdrive/MyDrive/\n",
        "%cd NLP_Final_Project/data/normalized_data/\n",
        "!ls"
      ],
      "metadata": {
        "colab": {
          "base_uri": "https://localhost:8080/"
        },
        "id": "WuDJiu7bZjie",
        "outputId": "cbc38334-dcdd-4620-be40-c7bce235001b"
      },
      "execution_count": null,
      "outputs": [
        {
          "output_type": "stream",
          "name": "stdout",
          "text": [
            "[Errno 2] No such file or directory: 'gdrive/MyDrive/'\n",
            "/content/gdrive/MyDrive\n",
            "/content/gdrive/MyDrive/NLP_Final_Project/data/normalized_data\n",
            "bijankhan_parags_normd.txt   uptodate_parags_normd.txt\n",
            "dictionary_idf_fa_df.pickle  wiki-fa_parags_normd.txt\n",
            "old\n"
          ]
        }
      ]
    },
    {
      "cell_type": "code",
      "source": [
        "f = open(file_name, \"r\")\n",
        "data = f.read()\n",
        "data = data.split(\"\\n\")"
      ],
      "metadata": {
        "id": "z72DprH-PL3P"
      },
      "execution_count": null,
      "outputs": []
    },
    {
      "cell_type": "code",
      "source": [
        "corpus = data"
      ],
      "metadata": {
        "id": "5oWk9gMWtBGD"
      },
      "execution_count": null,
      "outputs": []
    },
    {
      "cell_type": "markdown",
      "source": [
        "# main code"
      ],
      "metadata": {
        "id": "Vw8k2YxACmNR"
      }
    },
    {
      "cell_type": "code",
      "source": [
        "# create vocabulary list, which is list of words, and we used set to force each word accure once\n",
        "bagOfWords = []\n",
        "for text in tqdm(corpus):\n",
        "  bagOfWords.append(text.split(' '))\n",
        "vocabulary = set([])\n",
        "for i in tqdm(range(len(corpus))):\n",
        "  vocabulary = vocabulary.union(set(bagOfWords[i]))\n",
        "\n",
        "vocabulary = vocabulary.union(set(['Zzz']))\n",
        "vocabulary = list(vocabulary)\n",
        "\n",
        "#this pipline is the one, which mentioned in document and  its ioutput comprehance the \"idf\" for us\n",
        "pipe = Pipeline([('count', CountVectorizer(vocabulary=vocabulary)),\n",
        "                 ('tfid', TfidfTransformer())]).fit(corpus)\n",
        "\n",
        "idf__ = pipe['tfid'].idf_"
      ],
      "metadata": {
        "id": "xDcpXyl5scCx"
      },
      "execution_count": null,
      "outputs": []
    },
    {
      "cell_type": "code",
      "source": [
        "# a simple test:\n",
        "try:\n",
        "    print(idf__[vocabulary.index(\"drug\")])\n",
        "except:\n",
        "    print(\"Zzzz\")"
      ],
      "metadata": {
        "id": "tJbfVXODscFj",
        "colab": {
          "base_uri": "https://localhost:8080/"
        },
        "outputId": "95395520-a99a-4c90-936b-3792251e9d49"
      },
      "execution_count": null,
      "outputs": [
        {
          "output_type": "stream",
          "name": "stdout",
          "text": [
            "3.602998399041376\n"
          ]
        }
      ]
    },
    {
      "cell_type": "code",
      "source": [
        "max(idf__),min(idf__)"
      ],
      "metadata": {
        "id": "07qhghgJ9roJ",
        "colab": {
          "base_uri": "https://localhost:8080/"
        },
        "outputId": "1006aa3c-d540-485d-c2c2-9ff6ed62d034"
      },
      "execution_count": null,
      "outputs": [
        {
          "output_type": "execute_result",
          "data": {
            "text/plain": [
              "(13.407383590534293, 1.056812411919901)"
            ]
          },
          "metadata": {},
          "execution_count": 21
        }
      ]
    },
    {
      "cell_type": "code",
      "source": [
        "dictionary_idf_en = {}\n",
        "\n",
        "for i in range(len(vocabulary)):\n",
        "    dictionary_idf_en[vocabulary[i]] = idf__[i] "
      ],
      "metadata": {
        "id": "Se7GqQWL96Kt"
      },
      "execution_count": null,
      "outputs": []
    },
    {
      "cell_type": "code",
      "source": [
        "dictionary_idf_en_df = pd.DataFrame(dictionary_idf_en.items(), columns=['word', 'idf'])"
      ],
      "metadata": {
        "id": "wUCzHq5v_S0D"
      },
      "execution_count": null,
      "outputs": []
    },
    {
      "cell_type": "code",
      "source": [
        "dictionary_idf_en_df"
      ],
      "metadata": {
        "id": "QI0v0zX1EdrL",
        "colab": {
          "base_uri": "https://localhost:8080/",
          "height": 424
        },
        "outputId": "4fca421f-8fb4-4d2c-b574-3015e6171b25"
      },
      "execution_count": null,
      "outputs": [
        {
          "output_type": "execute_result",
          "data": {
            "text/html": [
              "\n",
              "  <div id=\"df-abac2705-fdd5-4aaf-9504-e36e39290d5e\">\n",
              "    <div class=\"colab-df-container\">\n",
              "      <div>\n",
              "<style scoped>\n",
              "    .dataframe tbody tr th:only-of-type {\n",
              "        vertical-align: middle;\n",
              "    }\n",
              "\n",
              "    .dataframe tbody tr th {\n",
              "        vertical-align: top;\n",
              "    }\n",
              "\n",
              "    .dataframe thead th {\n",
              "        text-align: right;\n",
              "    }\n",
              "</style>\n",
              "<table border=\"1\" class=\"dataframe\">\n",
              "  <thead>\n",
              "    <tr style=\"text-align: right;\">\n",
              "      <th></th>\n",
              "      <th>word</th>\n",
              "      <th>idf</th>\n",
              "    </tr>\n",
              "  </thead>\n",
              "  <tbody>\n",
              "    <tr>\n",
              "      <th>0</th>\n",
              "      <td></td>\n",
              "      <td>13.407384</td>\n",
              "    </tr>\n",
              "    <tr>\n",
              "      <th>1</th>\n",
              "      <td>wraps</td>\n",
              "      <td>9.089895</td>\n",
              "    </tr>\n",
              "    <tr>\n",
              "      <th>2</th>\n",
              "      <td>weilii</td>\n",
              "      <td>12.714236</td>\n",
              "    </tr>\n",
              "    <tr>\n",
              "      <th>3</th>\n",
              "      <td>alopeciaexamples</td>\n",
              "      <td>12.714236</td>\n",
              "    </tr>\n",
              "    <tr>\n",
              "      <th>4</th>\n",
              "      <td>swinging</td>\n",
              "      <td>9.973396</td>\n",
              "    </tr>\n",
              "    <tr>\n",
              "      <th>...</th>\n",
              "      <td>...</td>\n",
              "      <td>...</td>\n",
              "    </tr>\n",
              "    <tr>\n",
              "      <th>182244</th>\n",
              "      <td>splenosishydatid</td>\n",
              "      <td>12.714236</td>\n",
              "    </tr>\n",
              "    <tr>\n",
              "      <th>182245</th>\n",
              "      <td>keb</td>\n",
              "      <td>9.973396</td>\n",
              "    </tr>\n",
              "    <tr>\n",
              "      <th>182246</th>\n",
              "      <td>individualparticipation</td>\n",
              "      <td>12.714236</td>\n",
              "    </tr>\n",
              "    <tr>\n",
              "      <th>182247</th>\n",
              "      <td>alonepercutaneous</td>\n",
              "      <td>12.714236</td>\n",
              "    </tr>\n",
              "    <tr>\n",
              "      <th>182248</th>\n",
              "      <td>“intermittent”</td>\n",
              "      <td>13.407384</td>\n",
              "    </tr>\n",
              "  </tbody>\n",
              "</table>\n",
              "<p>182249 rows × 2 columns</p>\n",
              "</div>\n",
              "      <button class=\"colab-df-convert\" onclick=\"convertToInteractive('df-abac2705-fdd5-4aaf-9504-e36e39290d5e')\"\n",
              "              title=\"Convert this dataframe to an interactive table.\"\n",
              "              style=\"display:none;\">\n",
              "        \n",
              "  <svg xmlns=\"http://www.w3.org/2000/svg\" height=\"24px\"viewBox=\"0 0 24 24\"\n",
              "       width=\"24px\">\n",
              "    <path d=\"M0 0h24v24H0V0z\" fill=\"none\"/>\n",
              "    <path d=\"M18.56 5.44l.94 2.06.94-2.06 2.06-.94-2.06-.94-.94-2.06-.94 2.06-2.06.94zm-11 1L8.5 8.5l.94-2.06 2.06-.94-2.06-.94L8.5 2.5l-.94 2.06-2.06.94zm10 10l.94 2.06.94-2.06 2.06-.94-2.06-.94-.94-2.06-.94 2.06-2.06.94z\"/><path d=\"M17.41 7.96l-1.37-1.37c-.4-.4-.92-.59-1.43-.59-.52 0-1.04.2-1.43.59L10.3 9.45l-7.72 7.72c-.78.78-.78 2.05 0 2.83L4 21.41c.39.39.9.59 1.41.59.51 0 1.02-.2 1.41-.59l7.78-7.78 2.81-2.81c.8-.78.8-2.07 0-2.86zM5.41 20L4 18.59l7.72-7.72 1.47 1.35L5.41 20z\"/>\n",
              "  </svg>\n",
              "      </button>\n",
              "      \n",
              "  <style>\n",
              "    .colab-df-container {\n",
              "      display:flex;\n",
              "      flex-wrap:wrap;\n",
              "      gap: 12px;\n",
              "    }\n",
              "\n",
              "    .colab-df-convert {\n",
              "      background-color: #E8F0FE;\n",
              "      border: none;\n",
              "      border-radius: 50%;\n",
              "      cursor: pointer;\n",
              "      display: none;\n",
              "      fill: #1967D2;\n",
              "      height: 32px;\n",
              "      padding: 0 0 0 0;\n",
              "      width: 32px;\n",
              "    }\n",
              "\n",
              "    .colab-df-convert:hover {\n",
              "      background-color: #E2EBFA;\n",
              "      box-shadow: 0px 1px 2px rgba(60, 64, 67, 0.3), 0px 1px 3px 1px rgba(60, 64, 67, 0.15);\n",
              "      fill: #174EA6;\n",
              "    }\n",
              "\n",
              "    [theme=dark] .colab-df-convert {\n",
              "      background-color: #3B4455;\n",
              "      fill: #D2E3FC;\n",
              "    }\n",
              "\n",
              "    [theme=dark] .colab-df-convert:hover {\n",
              "      background-color: #434B5C;\n",
              "      box-shadow: 0px 1px 3px 1px rgba(0, 0, 0, 0.15);\n",
              "      filter: drop-shadow(0px 1px 2px rgba(0, 0, 0, 0.3));\n",
              "      fill: #FFFFFF;\n",
              "    }\n",
              "  </style>\n",
              "\n",
              "      <script>\n",
              "        const buttonEl =\n",
              "          document.querySelector('#df-abac2705-fdd5-4aaf-9504-e36e39290d5e button.colab-df-convert');\n",
              "        buttonEl.style.display =\n",
              "          google.colab.kernel.accessAllowed ? 'block' : 'none';\n",
              "\n",
              "        async function convertToInteractive(key) {\n",
              "          const element = document.querySelector('#df-abac2705-fdd5-4aaf-9504-e36e39290d5e');\n",
              "          const dataTable =\n",
              "            await google.colab.kernel.invokeFunction('convertToInteractive',\n",
              "                                                     [key], {});\n",
              "          if (!dataTable) return;\n",
              "\n",
              "          const docLinkHtml = 'Like what you see? Visit the ' +\n",
              "            '<a target=\"_blank\" href=https://colab.research.google.com/notebooks/data_table.ipynb>data table notebook</a>'\n",
              "            + ' to learn more about interactive tables.';\n",
              "          element.innerHTML = '';\n",
              "          dataTable['output_type'] = 'display_data';\n",
              "          await google.colab.output.renderOutput(dataTable, element);\n",
              "          const docLink = document.createElement('div');\n",
              "          docLink.innerHTML = docLinkHtml;\n",
              "          element.appendChild(docLink);\n",
              "        }\n",
              "      </script>\n",
              "    </div>\n",
              "  </div>\n",
              "  "
            ],
            "text/plain": [
              "                           word        idf\n",
              "0                                13.407384\n",
              "1                         wraps   9.089895\n",
              "2                        weilii  12.714236\n",
              "3              alopeciaexamples  12.714236\n",
              "4                      swinging   9.973396\n",
              "...                         ...        ...\n",
              "182244         splenosishydatid  12.714236\n",
              "182245                      keb   9.973396\n",
              "182246  individualparticipation  12.714236\n",
              "182247        alonepercutaneous  12.714236\n",
              "182248           “intermittent”  13.407384\n",
              "\n",
              "[182249 rows x 2 columns]"
            ]
          },
          "metadata": {},
          "execution_count": 24
        }
      ]
    },
    {
      "cell_type": "code",
      "source": [
        "dictionary_idf_en_df.to_pickle(destination_name)"
      ],
      "metadata": {
        "id": "QbTbdnVzE-jC"
      },
      "execution_count": null,
      "outputs": []
    }
  ]
}